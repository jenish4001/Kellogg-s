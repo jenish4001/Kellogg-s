{
 "cells": [
  {
   "cell_type": "markdown",
   "metadata": {},
   "source": [
    "# Name:- JENISH VINODBHAI DHADUK\n",
    "## Student Id:- 989354198"
   ]
  },
  {
   "cell_type": "markdown",
   "metadata": {},
   "source": [
    "#  "
   ]
  },
  {
   "cell_type": "markdown",
   "metadata": {},
   "source": [
    "# Project Name : Kellogg's olympics analysis"
   ]
  },
  {
   "cell_type": "markdown",
   "metadata": {},
   "source": [
    "## 1. Objective of the proposed research."
   ]
  },
  {
   "cell_type": "markdown",
   "metadata": {},
   "source": [
    "    kellogg's wants to sponsor an athlete in the next Olympics. So Kellogg's needs to identify the important information that can improve the quality of decision making for selecting an athlete. For that, a record of 120 years of Olympics history is given to analyze. It comprises all the results of Games from the 1896 Athens Olympics to 2016 Rio Olympics.\n",
    "\n",
    "    Being a multinational company targeting a specific candidate becomes very crucial. Olympics is a highly competitive event. All Countries comes on the same sporting platform to defeat one another as Kellogg’s has manufacturing facilities in more than 20 countries which are helping it to make its products available in more than 180 countries globally. Kellog's must make sure that by selecting some particular candidate they are not indirectly hurting any country's national sentiments.\n",
    "\n",
    "    For the world’s largest cereal maker and 2nd largest maker of cookies & snacks, sporting events that appeal to all age group specially among children is always going to be beneficial. Likewise for the company to be associated by a brand ambassador everything matters from how they show up on social media, and how is their's public image and most importantly how they perform on the field.\n",
    "\n",
    "    In this analysis, my goal is to select appropriate athlete and sporting event to whom Kellogg's can sponsor which might help them to exponentially increase their sells or help improves their brand image globally. "
   ]
  },
  {
   "cell_type": "code",
   "execution_count": 1,
   "metadata": {},
   "outputs": [
    {
     "name": "stderr",
     "output_type": "stream",
     "text": [
      "\n",
      "Attaching package: 'dplyr'\n",
      "\n",
      "The following objects are masked from 'package:stats':\n",
      "\n",
      "    filter, lag\n",
      "\n",
      "The following objects are masked from 'package:base':\n",
      "\n",
      "    intersect, setdiff, setequal, union\n",
      "\n"
     ]
    }
   ],
   "source": [
    "library(tidyr)\n",
    "library(dplyr)"
   ]
  },
  {
   "cell_type": "markdown",
   "metadata": {},
   "source": [
    "# 2. Data exploration"
   ]
  },
  {
   "cell_type": "code",
   "execution_count": 134,
   "metadata": {},
   "outputs": [
    {
     "data": {
      "text/html": [
       "<table>\n",
       "<thead><tr><th scope=col>ID</th><th scope=col>Name</th><th scope=col>Sex</th><th scope=col>Age</th><th scope=col>Height</th><th scope=col>Weight</th><th scope=col>Team</th><th scope=col>NOC</th><th scope=col>Games</th><th scope=col>Year</th><th scope=col>Season</th><th scope=col>City</th><th scope=col>Sport</th><th scope=col>Event</th><th scope=col>Medal</th></tr></thead>\n",
       "<tbody>\n",
       "\t<tr><td>1                                 </td><td>A Dijiang                         </td><td>M                                 </td><td>24                                </td><td>180                               </td><td>80                                </td><td>China                             </td><td>CHN                               </td><td>1992 Summer                       </td><td>1992                              </td><td>Summer                            </td><td>Barcelona                         </td><td>Basketball                        </td><td>Basketball Men's Basketball       </td><td>NA                                </td></tr>\n",
       "\t<tr><td>2                                 </td><td>A Lamusi                          </td><td>M                                 </td><td>23                                </td><td>170                               </td><td>60                                </td><td>China                             </td><td>CHN                               </td><td>2012 Summer                       </td><td>2012                              </td><td>Summer                            </td><td>London                            </td><td>Judo                              </td><td>Judo Men's Extra-Lightweight      </td><td>NA                                </td></tr>\n",
       "\t<tr><td>3                                 </td><td>Gunnar Nielsen Aaby               </td><td>M                                 </td><td>24                                </td><td> NA                               </td><td>NA                                </td><td>Denmark                           </td><td>DEN                               </td><td>1920 Summer                       </td><td>1920                              </td><td>Summer                            </td><td>Antwerpen                         </td><td>Football                          </td><td>Football Men's Football           </td><td>NA                                </td></tr>\n",
       "\t<tr><td>4                                 </td><td>Edgar Lindenau Aabye              </td><td>M                                 </td><td>34                                </td><td> NA                               </td><td>NA                                </td><td>Denmark/Sweden                    </td><td>DEN                               </td><td>1900 Summer                       </td><td>1900                              </td><td>Summer                            </td><td>Paris                             </td><td>Tug-Of-War                        </td><td>Tug-Of-War Men's Tug-Of-War       </td><td>Gold                              </td></tr>\n",
       "\t<tr><td>5                                 </td><td>Christine Jacoba Aaftink          </td><td>F                                 </td><td>21                                </td><td>185                               </td><td>82                                </td><td>Netherlands                       </td><td>NED                               </td><td>1988 Winter                       </td><td>1988                              </td><td>Winter                            </td><td>Calgary                           </td><td>Speed Skating                     </td><td>Speed Skating Women's 500 metres  </td><td>NA                                </td></tr>\n",
       "\t<tr><td>5                                 </td><td>Christine Jacoba Aaftink          </td><td>F                                 </td><td>21                                </td><td>185                               </td><td>82                                </td><td>Netherlands                       </td><td>NED                               </td><td>1988 Winter                       </td><td>1988                              </td><td>Winter                            </td><td>Calgary                           </td><td>Speed Skating                     </td><td>Speed Skating Women's 1,000 metres</td><td>NA                                </td></tr>\n",
       "</tbody>\n",
       "</table>\n"
      ],
      "text/latex": [
       "\\begin{tabular}{r|lllllllllllllll}\n",
       " ID & Name & Sex & Age & Height & Weight & Team & NOC & Games & Year & Season & City & Sport & Event & Medal\\\\\n",
       "\\hline\n",
       "\t 1                                  & A Dijiang                          & M                                  & 24                                 & 180                                & 80                                 & China                              & CHN                                & 1992 Summer                        & 1992                               & Summer                             & Barcelona                          & Basketball                         & Basketball Men's Basketball        & NA                                \\\\\n",
       "\t 2                                  & A Lamusi                           & M                                  & 23                                 & 170                                & 60                                 & China                              & CHN                                & 2012 Summer                        & 2012                               & Summer                             & London                             & Judo                               & Judo Men's Extra-Lightweight       & NA                                \\\\\n",
       "\t 3                                  & Gunnar Nielsen Aaby                & M                                  & 24                                 &  NA                                & NA                                 & Denmark                            & DEN                                & 1920 Summer                        & 1920                               & Summer                             & Antwerpen                          & Football                           & Football Men's Football            & NA                                \\\\\n",
       "\t 4                                  & Edgar Lindenau Aabye               & M                                  & 34                                 &  NA                                & NA                                 & Denmark/Sweden                     & DEN                                & 1900 Summer                        & 1900                               & Summer                             & Paris                              & Tug-Of-War                         & Tug-Of-War Men's Tug-Of-War        & Gold                              \\\\\n",
       "\t 5                                  & Christine Jacoba Aaftink           & F                                  & 21                                 & 185                                & 82                                 & Netherlands                        & NED                                & 1988 Winter                        & 1988                               & Winter                             & Calgary                            & Speed Skating                      & Speed Skating Women's 500 metres   & NA                                \\\\\n",
       "\t 5                                  & Christine Jacoba Aaftink           & F                                  & 21                                 & 185                                & 82                                 & Netherlands                        & NED                                & 1988 Winter                        & 1988                               & Winter                             & Calgary                            & Speed Skating                      & Speed Skating Women's 1,000 metres & NA                                \\\\\n",
       "\\end{tabular}\n"
      ],
      "text/markdown": [
       "\n",
       "| ID | Name | Sex | Age | Height | Weight | Team | NOC | Games | Year | Season | City | Sport | Event | Medal |\n",
       "|---|---|---|---|---|---|---|---|---|---|---|---|---|---|---|\n",
       "| 1                                  | A Dijiang                          | M                                  | 24                                 | 180                                | 80                                 | China                              | CHN                                | 1992 Summer                        | 1992                               | Summer                             | Barcelona                          | Basketball                         | Basketball Men's Basketball        | NA                                 |\n",
       "| 2                                  | A Lamusi                           | M                                  | 23                                 | 170                                | 60                                 | China                              | CHN                                | 2012 Summer                        | 2012                               | Summer                             | London                             | Judo                               | Judo Men's Extra-Lightweight       | NA                                 |\n",
       "| 3                                  | Gunnar Nielsen Aaby                | M                                  | 24                                 |  NA                                | NA                                 | Denmark                            | DEN                                | 1920 Summer                        | 1920                               | Summer                             | Antwerpen                          | Football                           | Football Men's Football            | NA                                 |\n",
       "| 4                                  | Edgar Lindenau Aabye               | M                                  | 34                                 |  NA                                | NA                                 | Denmark/Sweden                     | DEN                                | 1900 Summer                        | 1900                               | Summer                             | Paris                              | Tug-Of-War                         | Tug-Of-War Men's Tug-Of-War        | Gold                               |\n",
       "| 5                                  | Christine Jacoba Aaftink           | F                                  | 21                                 | 185                                | 82                                 | Netherlands                        | NED                                | 1988 Winter                        | 1988                               | Winter                             | Calgary                            | Speed Skating                      | Speed Skating Women's 500 metres   | NA                                 |\n",
       "| 5                                  | Christine Jacoba Aaftink           | F                                  | 21                                 | 185                                | 82                                 | Netherlands                        | NED                                | 1988 Winter                        | 1988                               | Winter                             | Calgary                            | Speed Skating                      | Speed Skating Women's 1,000 metres | NA                                 |\n",
       "\n"
      ],
      "text/plain": [
       "  ID Name                     Sex Age Height Weight Team           NOC\n",
       "1 1  A Dijiang                M   24  180    80     China          CHN\n",
       "2 2  A Lamusi                 M   23  170    60     China          CHN\n",
       "3 3  Gunnar Nielsen Aaby      M   24   NA    NA     Denmark        DEN\n",
       "4 4  Edgar Lindenau Aabye     M   34   NA    NA     Denmark/Sweden DEN\n",
       "5 5  Christine Jacoba Aaftink F   21  185    82     Netherlands    NED\n",
       "6 5  Christine Jacoba Aaftink F   21  185    82     Netherlands    NED\n",
       "  Games       Year Season City      Sport        \n",
       "1 1992 Summer 1992 Summer Barcelona Basketball   \n",
       "2 2012 Summer 2012 Summer London    Judo         \n",
       "3 1920 Summer 1920 Summer Antwerpen Football     \n",
       "4 1900 Summer 1900 Summer Paris     Tug-Of-War   \n",
       "5 1988 Winter 1988 Winter Calgary   Speed Skating\n",
       "6 1988 Winter 1988 Winter Calgary   Speed Skating\n",
       "  Event                              Medal\n",
       "1 Basketball Men's Basketball        NA   \n",
       "2 Judo Men's Extra-Lightweight       NA   \n",
       "3 Football Men's Football            NA   \n",
       "4 Tug-Of-War Men's Tug-Of-War        Gold \n",
       "5 Speed Skating Women's 500 metres   NA   \n",
       "6 Speed Skating Women's 1,000 metres NA   "
      ]
     },
     "metadata": {},
     "output_type": "display_data"
    }
   ],
   "source": [
    "ath<-read.csv(file.choose())\n",
    "head(ath)"
   ]
  },
  {
   "cell_type": "markdown",
   "metadata": {},
   "source": [
    "As per my research the three most viewed Sports are swimming, gymnatics and Athletics. So a athletic playing among these sports will have larger viewing audience as compare to any other sports."
   ]
  },
  {
   "cell_type": "code",
   "execution_count": 13,
   "metadata": {},
   "outputs": [],
   "source": [
    "xath<-ath %>% filter(Medal ==\"Gold\") %>% filter(Sport ==\"Swimming\") %>%\n",
    "  select(Year,Team,Medal) %>% \n",
    "  group_by(Year,Team) %>% \n",
    "  count(Medal) %>%\n",
    "  group_by(Year) %>% \n",
    "  arrange(Year,desc(n)) %>% \n",
    "  slice(1:3)\n",
    " "
   ]
  },
  {
   "cell_type": "markdown",
   "metadata": {},
   "source": [
    "Above code list out the country who won most gold medals in swimming category."
   ]
  },
  {
   "cell_type": "code",
   "execution_count": 80,
   "metadata": {},
   "outputs": [
    {
     "data": {
      "text/html": [
       "<table>\n",
       "<thead><tr><th scope=col>Year</th><th scope=col>Name</th><th scope=col>Team</th><th scope=col>Age</th><th scope=col>Sex</th><th scope=col>Medal</th><th scope=col>n</th></tr></thead>\n",
       "<tbody>\n",
       "\t<tr><td>2012          </td><td>Chen Yibing   </td><td>China         </td><td>27            </td><td>M             </td><td>Gold          </td><td>1             </td></tr>\n",
       "\t<tr><td>2012          </td><td>Chen Yibing   </td><td>China         </td><td>27            </td><td>M             </td><td>Silver        </td><td>1             </td></tr>\n",
       "\t<tr><td>2012          </td><td>Deng Linlin   </td><td>China         </td><td>20            </td><td>F             </td><td>Gold          </td><td>1             </td></tr>\n",
       "\t<tr><td>2012          </td><td>Guo Weiyang   </td><td>China         </td><td>24            </td><td>M             </td><td>Gold          </td><td>1             </td></tr>\n",
       "\t<tr><td>2012          </td><td>He Kexin      </td><td>China         </td><td>20            </td><td>F             </td><td>Silver        </td><td>1             </td></tr>\n",
       "\t<tr><td>2016          </td><td>Deng Shudi    </td><td>China         </td><td>24            </td><td>M             </td><td>Bronze        </td><td>1             </td></tr>\n",
       "\t<tr><td>2016          </td><td>Fan Yilin     </td><td>China         </td><td>16            </td><td>F             </td><td>Bronze        </td><td>1             </td></tr>\n",
       "\t<tr><td>2016          </td><td>Lin Chaopan   </td><td>China         </td><td>20            </td><td>M             </td><td>Bronze        </td><td>1             </td></tr>\n",
       "\t<tr><td>2016          </td><td>Liu Yang      </td><td>China         </td><td>21            </td><td>M             </td><td>Bronze        </td><td>1             </td></tr>\n",
       "\t<tr><td>2016          </td><td>Mao Yi        </td><td>China         </td><td>16            </td><td>F             </td><td>Bronze        </td><td>1             </td></tr>\n",
       "\t<tr><td>2016          </td><td>Shang Chunsong</td><td>China         </td><td>20            </td><td>F             </td><td>Bronze        </td><td>1             </td></tr>\n",
       "\t<tr><td>2016          </td><td>Tan Jiaxin    </td><td>China         </td><td>19            </td><td>F             </td><td>Bronze        </td><td>1             </td></tr>\n",
       "</tbody>\n",
       "</table>\n"
      ],
      "text/latex": [
       "\\begin{tabular}{r|lllllll}\n",
       " Year & Name & Team & Age & Sex & Medal & n\\\\\n",
       "\\hline\n",
       "\t 2012           & Chen Yibing    & China          & 27             & M              & Gold           & 1             \\\\\n",
       "\t 2012           & Chen Yibing    & China          & 27             & M              & Silver         & 1             \\\\\n",
       "\t 2012           & Deng Linlin    & China          & 20             & F              & Gold           & 1             \\\\\n",
       "\t 2012           & Guo Weiyang    & China          & 24             & M              & Gold           & 1             \\\\\n",
       "\t 2012           & He Kexin       & China          & 20             & F              & Silver         & 1             \\\\\n",
       "\t 2016           & Deng Shudi     & China          & 24             & M              & Bronze         & 1             \\\\\n",
       "\t 2016           & Fan Yilin      & China          & 16             & F              & Bronze         & 1             \\\\\n",
       "\t 2016           & Lin Chaopan    & China          & 20             & M              & Bronze         & 1             \\\\\n",
       "\t 2016           & Liu Yang       & China          & 21             & M              & Bronze         & 1             \\\\\n",
       "\t 2016           & Mao Yi         & China          & 16             & F              & Bronze         & 1             \\\\\n",
       "\t 2016           & Shang Chunsong & China          & 20             & F              & Bronze         & 1             \\\\\n",
       "\t 2016           & Tan Jiaxin     & China          & 19             & F              & Bronze         & 1             \\\\\n",
       "\\end{tabular}\n"
      ],
      "text/markdown": [
       "\n",
       "| Year | Name | Team | Age | Sex | Medal | n |\n",
       "|---|---|---|---|---|---|---|\n",
       "| 2012           | Chen Yibing    | China          | 27             | M              | Gold           | 1              |\n",
       "| 2012           | Chen Yibing    | China          | 27             | M              | Silver         | 1              |\n",
       "| 2012           | Deng Linlin    | China          | 20             | F              | Gold           | 1              |\n",
       "| 2012           | Guo Weiyang    | China          | 24             | M              | Gold           | 1              |\n",
       "| 2012           | He Kexin       | China          | 20             | F              | Silver         | 1              |\n",
       "| 2016           | Deng Shudi     | China          | 24             | M              | Bronze         | 1              |\n",
       "| 2016           | Fan Yilin      | China          | 16             | F              | Bronze         | 1              |\n",
       "| 2016           | Lin Chaopan    | China          | 20             | M              | Bronze         | 1              |\n",
       "| 2016           | Liu Yang       | China          | 21             | M              | Bronze         | 1              |\n",
       "| 2016           | Mao Yi         | China          | 16             | F              | Bronze         | 1              |\n",
       "| 2016           | Shang Chunsong | China          | 20             | F              | Bronze         | 1              |\n",
       "| 2016           | Tan Jiaxin     | China          | 19             | F              | Bronze         | 1              |\n",
       "\n"
      ],
      "text/plain": [
       "   Year Name           Team  Age Sex Medal  n\n",
       "1  2012 Chen Yibing    China 27  M   Gold   1\n",
       "2  2012 Chen Yibing    China 27  M   Silver 1\n",
       "3  2012 Deng Linlin    China 20  F   Gold   1\n",
       "4  2012 Guo Weiyang    China 24  M   Gold   1\n",
       "5  2012 He Kexin       China 20  F   Silver 1\n",
       "6  2016 Deng Shudi     China 24  M   Bronze 1\n",
       "7  2016 Fan Yilin      China 16  F   Bronze 1\n",
       "8  2016 Lin Chaopan    China 20  M   Bronze 1\n",
       "9  2016 Liu Yang       China 21  M   Bronze 1\n",
       "10 2016 Mao Yi         China 16  F   Bronze 1\n",
       "11 2016 Shang Chunsong China 20  F   Bronze 1\n",
       "12 2016 Tan Jiaxin     China 19  F   Bronze 1"
      ]
     },
     "metadata": {},
     "output_type": "display_data"
    },
    {
     "data": {
      "text/html": [
       "54"
      ],
      "text/latex": [
       "54"
      ],
      "text/markdown": [
       "54"
      ],
      "text/plain": [
       "[1] 54"
      ]
     },
     "metadata": {},
     "output_type": "display_data"
    },
    {
     "data": {
      "text/html": [
       "7"
      ],
      "text/latex": [
       "7"
      ],
      "text/markdown": [
       "7"
      ],
      "text/plain": [
       "[1] 7"
      ]
     },
     "metadata": {},
     "output_type": "display_data"
    }
   ],
   "source": [
    "#table 1\n",
    "tail(xath,n=12)\n",
    "\n",
    "#number of rows in table\n",
    "nrow(xath)\n",
    "\n",
    "#number of columns in table\n",
    "ncol(xath)"
   ]
  },
  {
   "cell_type": "markdown",
   "metadata": {},
   "source": [
    "Table 1\n",
    "\n",
    "so in a last 3 olympics ocurunces United States and Australia have always made it to top three spots for winning most golds in swimming events.\n",
    "\n",
    "54 is the number of rows in table.\n",
    "7  is the number of columns in table"
   ]
  },
  {
   "cell_type": "code",
   "execution_count": 82,
   "metadata": {},
   "outputs": [],
   "source": [
    "xath<-ath %>% filter(Medal ==\"Gold\") %>% filter(Sport ==\"Gymnastics\") %>%\n",
    "  select(Year,Team,Medal) %>% \n",
    "  group_by(Year,Team) %>% \n",
    "  count(Medal) %>%\n",
    "  group_by(Year) %>% \n",
    "  arrange(Year,desc(n)) %>% \n",
    "  slice(1:3)"
   ]
  },
  {
   "cell_type": "code",
   "execution_count": 83,
   "metadata": {},
   "outputs": [
    {
     "data": {
      "text/html": [
       "<table>\n",
       "<thead><tr><th scope=col>Year</th><th scope=col>Team</th><th scope=col>Medal</th><th scope=col>n</th></tr></thead>\n",
       "<tbody>\n",
       "\t<tr><td>2012         </td><td>China        </td><td>Gold         </td><td>8            </td></tr>\n",
       "\t<tr><td>2012         </td><td>United States</td><td>Gold         </td><td>7            </td></tr>\n",
       "\t<tr><td>2012         </td><td>Brazil       </td><td>Gold         </td><td>1            </td></tr>\n",
       "\t<tr><td>2016         </td><td>United States</td><td>Gold         </td><td>8            </td></tr>\n",
       "\t<tr><td>2016         </td><td>Japan        </td><td>Gold         </td><td>6            </td></tr>\n",
       "\t<tr><td>2016         </td><td>Great Britain</td><td>Gold         </td><td>2            </td></tr>\n",
       "</tbody>\n",
       "</table>\n"
      ],
      "text/latex": [
       "\\begin{tabular}{r|llll}\n",
       " Year & Team & Medal & n\\\\\n",
       "\\hline\n",
       "\t 2012          & China         & Gold          & 8            \\\\\n",
       "\t 2012          & United States & Gold          & 7            \\\\\n",
       "\t 2012          & Brazil        & Gold          & 1            \\\\\n",
       "\t 2016          & United States & Gold          & 8            \\\\\n",
       "\t 2016          & Japan         & Gold          & 6            \\\\\n",
       "\t 2016          & Great Britain & Gold          & 2            \\\\\n",
       "\\end{tabular}\n"
      ],
      "text/markdown": [
       "\n",
       "| Year | Team | Medal | n |\n",
       "|---|---|---|---|\n",
       "| 2012          | China         | Gold          | 8             |\n",
       "| 2012          | United States | Gold          | 7             |\n",
       "| 2012          | Brazil        | Gold          | 1             |\n",
       "| 2016          | United States | Gold          | 8             |\n",
       "| 2016          | Japan         | Gold          | 6             |\n",
       "| 2016          | Great Britain | Gold          | 2             |\n",
       "\n"
      ],
      "text/plain": [
       "  Year Team          Medal n\n",
       "1 2012 China         Gold  8\n",
       "2 2012 United States Gold  7\n",
       "3 2012 Brazil        Gold  1\n",
       "4 2016 United States Gold  8\n",
       "5 2016 Japan         Gold  6\n",
       "6 2016 Great Britain Gold  2"
      ]
     },
     "metadata": {},
     "output_type": "display_data"
    },
    {
     "data": {
      "text/html": [
       "84"
      ],
      "text/latex": [
       "84"
      ],
      "text/markdown": [
       "84"
      ],
      "text/plain": [
       "[1] 84"
      ]
     },
     "metadata": {},
     "output_type": "display_data"
    },
    {
     "data": {
      "text/html": [
       "4"
      ],
      "text/latex": [
       "4"
      ],
      "text/markdown": [
       "4"
      ],
      "text/plain": [
       "[1] 4"
      ]
     },
     "metadata": {},
     "output_type": "display_data"
    }
   ],
   "source": [
    "#table 2\n",
    "tail(xath,n=6)\n",
    "#number of rows in table\n",
    "nrow(xath)\n",
    "\n",
    "#number of columns in table\n",
    "ncol(xath)\n",
    "\n"
   ]
  },
  {
   "cell_type": "markdown",
   "metadata": {},
   "source": [
    "Table 2\n",
    "\n",
    "In the above table United States have won 7 gold medals and 8 gold medals in 2012 and 2016 respectively. It shows the potentail of american athletics in the last two olympics."
   ]
  },
  {
   "cell_type": "code",
   "execution_count": 28,
   "metadata": {},
   "outputs": [],
   "source": [
    "xath<-ath %>% filter(Medal ==\"Gold\") %>% filter(Sport ==\"Athletics\") %>%\n",
    "  select(Year,Team,Medal) %>% \n",
    "  group_by(Year,Team) %>% \n",
    "  count(Medal) %>%\n",
    "  group_by(Year) %>% \n",
    "  arrange(Year,desc(n)) %>% \n",
    "  slice(1:3)"
   ]
  },
  {
   "cell_type": "code",
   "execution_count": 30,
   "metadata": {
    "scrolled": true
   },
   "outputs": [
    {
     "data": {
      "text/html": [
       "<table>\n",
       "<thead><tr><th scope=col>Year</th><th scope=col>Team</th><th scope=col>Medal</th><th scope=col>n</th></tr></thead>\n",
       "<tbody>\n",
       "\t<tr><td>2012         </td><td>United States</td><td>Gold         </td><td>19           </td></tr>\n",
       "\t<tr><td>2012         </td><td>Jamaica      </td><td>Gold         </td><td> 8           </td></tr>\n",
       "\t<tr><td>2012         </td><td>Russia       </td><td>Gold         </td><td> 8           </td></tr>\n",
       "\t<tr><td>2016         </td><td>United States</td><td>Gold         </td><td>27           </td></tr>\n",
       "\t<tr><td>2016         </td><td>Jamaica      </td><td>Gold         </td><td>11           </td></tr>\n",
       "\t<tr><td>2016         </td><td>Kenya        </td><td>Gold         </td><td> 6           </td></tr>\n",
       "</tbody>\n",
       "</table>\n"
      ],
      "text/latex": [
       "\\begin{tabular}{r|llll}\n",
       " Year & Team & Medal & n\\\\\n",
       "\\hline\n",
       "\t 2012          & United States & Gold          & 19           \\\\\n",
       "\t 2012          & Jamaica       & Gold          &  8           \\\\\n",
       "\t 2012          & Russia        & Gold          &  8           \\\\\n",
       "\t 2016          & United States & Gold          & 27           \\\\\n",
       "\t 2016          & Jamaica       & Gold          & 11           \\\\\n",
       "\t 2016          & Kenya         & Gold          &  6           \\\\\n",
       "\\end{tabular}\n"
      ],
      "text/markdown": [
       "\n",
       "| Year | Team | Medal | n |\n",
       "|---|---|---|---|\n",
       "| 2012          | United States | Gold          | 19            |\n",
       "| 2012          | Jamaica       | Gold          |  8            |\n",
       "| 2012          | Russia        | Gold          |  8            |\n",
       "| 2016          | United States | Gold          | 27            |\n",
       "| 2016          | Jamaica       | Gold          | 11            |\n",
       "| 2016          | Kenya         | Gold          |  6            |\n",
       "\n"
      ],
      "text/plain": [
       "  Year Team          Medal n \n",
       "1 2012 United States Gold  19\n",
       "2 2012 Jamaica       Gold   8\n",
       "3 2012 Russia        Gold   8\n",
       "4 2016 United States Gold  27\n",
       "5 2016 Jamaica       Gold  11\n",
       "6 2016 Kenya         Gold   6"
      ]
     },
     "metadata": {},
     "output_type": "display_data"
    }
   ],
   "source": [
    "#table 3\n",
    "#showing the last 6 rows of the table \n",
    "tail(xath,n=6)"
   ]
  },
  {
   "cell_type": "markdown",
   "metadata": {},
   "source": [
    "Table 3\n",
    "\n",
    "The above table shows the gold medals won in last two olympics in Athletics. Here United States and Jamacian athletics have proven their ability to win medals."
   ]
  },
  {
   "cell_type": "markdown",
   "metadata": {},
   "source": [
    "The above analysis shows the best performing nations for most viewd sports in olympics is carried out. Now to find the best athletics in the respective sports, further analysis needs to be carried out."
   ]
  },
  {
   "cell_type": "code",
   "execution_count": 97,
   "metadata": {},
   "outputs": [
    {
     "data": {
      "text/html": [
       "<table>\n",
       "<thead><tr><th scope=col>Year</th><th scope=col>Name</th><th scope=col>Team</th><th scope=col>Age</th><th scope=col>Sex</th><th scope=col>Medal</th><th scope=col>n</th></tr></thead>\n",
       "<tbody>\n",
       "\t<tr><td>2012                                  </td><td>Emily Jane Seebohm                    </td><td>Australia                             </td><td>20                                    </td><td>F                                     </td><td>Silver                                </td><td>2                                     </td></tr>\n",
       "\t<tr><td>2012                                  </td><td>Melanie Rene \"Mel\" Schlanger (-Wright)</td><td>Australia                             </td><td>25                                    </td><td>F                                     </td><td>Silver                                </td><td>2                                     </td></tr>\n",
       "\t<tr><td>2012                                  </td><td>Alicia Jayne Coutts                   </td><td>Australia                             </td><td>24                                    </td><td>F                                     </td><td>Bronze                                </td><td>1                                     </td></tr>\n",
       "\t<tr><td>2012                                  </td><td>Alicia Jayne Coutts                   </td><td>Australia                             </td><td>24                                    </td><td>F                                     </td><td>Gold                                  </td><td>1                                     </td></tr>\n",
       "\t<tr><td>2012                                  </td><td>Angie Lee Bainbridge                  </td><td>Australia                             </td><td>22                                    </td><td>F                                     </td><td>Silver                                </td><td>1                                     </td></tr>\n",
       "\t<tr><td>2016                                  </td><td>Cameron McEvoy                        </td><td>Australia                             </td><td>22                                    </td><td>M                                     </td><td>Bronze                                </td><td>2                                     </td></tr>\n",
       "\t<tr><td>2016                                  </td><td>Emma McKeon                           </td><td>Australia                             </td><td>22                                    </td><td>F                                     </td><td>Silver                                </td><td>2                                     </td></tr>\n",
       "\t<tr><td>2016                                  </td><td>Kyle Chalmers                         </td><td>Australia                             </td><td>18                                    </td><td>M                                     </td><td>Bronze                                </td><td>2                                     </td></tr>\n",
       "\t<tr><td>2016                                  </td><td>Madeline Groves                       </td><td>Australia                             </td><td>21                                    </td><td>F                                     </td><td>Silver                                </td><td>2                                     </td></tr>\n",
       "\t<tr><td>2016                                  </td><td>Brittany Joyce Elmslie                </td><td>Australia                             </td><td>22                                    </td><td>F                                     </td><td>Gold                                  </td><td>1                                     </td></tr>\n",
       "\t<tr><td>2016                                  </td><td>Brittany Joyce Elmslie                </td><td>Australia                             </td><td>22                                    </td><td>F                                     </td><td>Silver                                </td><td>1                                     </td></tr>\n",
       "\t<tr><td>2016                                  </td><td>Bronte Amelia Arnold Barratt          </td><td>Australia                             </td><td>27                                    </td><td>F                                     </td><td>Silver                                </td><td>1                                     </td></tr>\n",
       "</tbody>\n",
       "</table>\n"
      ],
      "text/latex": [
       "\\begin{tabular}{r|lllllll}\n",
       " Year & Name & Team & Age & Sex & Medal & n\\\\\n",
       "\\hline\n",
       "\t 2012                                   & Emily Jane Seebohm                     & Australia                              & 20                                     & F                                      & Silver                                 & 2                                     \\\\\n",
       "\t 2012                                   & Melanie Rene \"Mel\" Schlanger (-Wright) & Australia                              & 25                                     & F                                      & Silver                                 & 2                                     \\\\\n",
       "\t 2012                                   & Alicia Jayne Coutts                    & Australia                              & 24                                     & F                                      & Bronze                                 & 1                                     \\\\\n",
       "\t 2012                                   & Alicia Jayne Coutts                    & Australia                              & 24                                     & F                                      & Gold                                   & 1                                     \\\\\n",
       "\t 2012                                   & Angie Lee Bainbridge                   & Australia                              & 22                                     & F                                      & Silver                                 & 1                                     \\\\\n",
       "\t 2016                                   & Cameron McEvoy                         & Australia                              & 22                                     & M                                      & Bronze                                 & 2                                     \\\\\n",
       "\t 2016                                   & Emma McKeon                            & Australia                              & 22                                     & F                                      & Silver                                 & 2                                     \\\\\n",
       "\t 2016                                   & Kyle Chalmers                          & Australia                              & 18                                     & M                                      & Bronze                                 & 2                                     \\\\\n",
       "\t 2016                                   & Madeline Groves                        & Australia                              & 21                                     & F                                      & Silver                                 & 2                                     \\\\\n",
       "\t 2016                                   & Brittany Joyce Elmslie                 & Australia                              & 22                                     & F                                      & Gold                                   & 1                                     \\\\\n",
       "\t 2016                                   & Brittany Joyce Elmslie                 & Australia                              & 22                                     & F                                      & Silver                                 & 1                                     \\\\\n",
       "\t 2016                                   & Bronte Amelia Arnold Barratt           & Australia                              & 27                                     & F                                      & Silver                                 & 1                                     \\\\\n",
       "\\end{tabular}\n"
      ],
      "text/markdown": [
       "\n",
       "| Year | Name | Team | Age | Sex | Medal | n |\n",
       "|---|---|---|---|---|---|---|\n",
       "| 2012                                   | Emily Jane Seebohm                     | Australia                              | 20                                     | F                                      | Silver                                 | 2                                      |\n",
       "| 2012                                   | Melanie Rene \"Mel\" Schlanger (-Wright) | Australia                              | 25                                     | F                                      | Silver                                 | 2                                      |\n",
       "| 2012                                   | Alicia Jayne Coutts                    | Australia                              | 24                                     | F                                      | Bronze                                 | 1                                      |\n",
       "| 2012                                   | Alicia Jayne Coutts                    | Australia                              | 24                                     | F                                      | Gold                                   | 1                                      |\n",
       "| 2012                                   | Angie Lee Bainbridge                   | Australia                              | 22                                     | F                                      | Silver                                 | 1                                      |\n",
       "| 2016                                   | Cameron McEvoy                         | Australia                              | 22                                     | M                                      | Bronze                                 | 2                                      |\n",
       "| 2016                                   | Emma McKeon                            | Australia                              | 22                                     | F                                      | Silver                                 | 2                                      |\n",
       "| 2016                                   | Kyle Chalmers                          | Australia                              | 18                                     | M                                      | Bronze                                 | 2                                      |\n",
       "| 2016                                   | Madeline Groves                        | Australia                              | 21                                     | F                                      | Silver                                 | 2                                      |\n",
       "| 2016                                   | Brittany Joyce Elmslie                 | Australia                              | 22                                     | F                                      | Gold                                   | 1                                      |\n",
       "| 2016                                   | Brittany Joyce Elmslie                 | Australia                              | 22                                     | F                                      | Silver                                 | 1                                      |\n",
       "| 2016                                   | Bronte Amelia Arnold Barratt           | Australia                              | 27                                     | F                                      | Silver                                 | 1                                      |\n",
       "\n"
      ],
      "text/plain": [
       "   Year Name                                   Team      Age Sex Medal  n\n",
       "1  2012 Emily Jane Seebohm                     Australia 20  F   Silver 2\n",
       "2  2012 Melanie Rene \"Mel\" Schlanger (-Wright) Australia 25  F   Silver 2\n",
       "3  2012 Alicia Jayne Coutts                    Australia 24  F   Bronze 1\n",
       "4  2012 Alicia Jayne Coutts                    Australia 24  F   Gold   1\n",
       "5  2012 Angie Lee Bainbridge                   Australia 22  F   Silver 1\n",
       "6  2016 Cameron McEvoy                         Australia 22  M   Bronze 2\n",
       "7  2016 Emma McKeon                            Australia 22  F   Silver 2\n",
       "8  2016 Kyle Chalmers                          Australia 18  M   Bronze 2\n",
       "9  2016 Madeline Groves                        Australia 21  F   Silver 2\n",
       "10 2016 Brittany Joyce Elmslie                 Australia 22  F   Gold   1\n",
       "11 2016 Brittany Joyce Elmslie                 Australia 22  F   Silver 1\n",
       "12 2016 Bronte Amelia Arnold Barratt           Australia 27  F   Silver 1"
      ]
     },
     "metadata": {},
     "output_type": "display_data"
    }
   ],
   "source": [
    "xath<-ath %>% filter(Medal !=\"<NA>\") %>% filter(Sport ==\"Swimming\") %>%\n",
    "  filter(Team ==\"Australia\") %>%\n",
    "  select(Year,Name,Team,Medal,Age,Sex) %>% \n",
    "  group_by(Year,Name,Team,Age,Sex) %>% \n",
    "  count(Medal) %>%\n",
    "  group_by(Year) %>% \n",
    "  arrange(Year,desc(n)) %>% \n",
    "  slice(1:7)\n",
    "tail(xath,n=12)\n"
   ]
  },
  {
   "cell_type": "markdown",
   "metadata": {},
   "source": [
    "Here It shows the medals won by australian swimmers in last two olympics."
   ]
  },
  {
   "cell_type": "markdown",
   "metadata": {},
   "source": [
    "The two candidates that can be recommended to kellogg's from Australia because they have won 2-2 medals each in last olympics.\n",
    "1.Emma McKeon  \n",
    "2.Brittany Joyce Elmslie "
   ]
  },
  {
   "cell_type": "markdown",
   "metadata": {},
   "source": [
    "# 3. One colum selection"
   ]
  },
  {
   "cell_type": "code",
   "execution_count": 105,
   "metadata": {},
   "outputs": [],
   "source": [
    "ath<-read.csv(file.choose())"
   ]
  },
  {
   "cell_type": "markdown",
   "metadata": {},
   "source": [
    "lets find out the largest value in the \"AGE\" column from the data set to see the list of oldest participant's ever participated in the olympics."
   ]
  },
  {
   "cell_type": "code",
   "execution_count": 117,
   "metadata": {
    "scrolled": true
   },
   "outputs": [
    {
     "data": {
      "text/html": [
       "<table>\n",
       "<thead><tr><th scope=col>Age</th></tr></thead>\n",
       "<tbody>\n",
       "\t<tr><td>80</td></tr>\n",
       "\t<tr><td>80</td></tr>\n",
       "\t<tr><td>81</td></tr>\n",
       "\t<tr><td>81</td></tr>\n",
       "\t<tr><td>84</td></tr>\n",
       "\t<tr><td>88</td></tr>\n",
       "\t<tr><td>88</td></tr>\n",
       "\t<tr><td>88</td></tr>\n",
       "\t<tr><td>96</td></tr>\n",
       "\t<tr><td>97</td></tr>\n",
       "</tbody>\n",
       "</table>\n"
      ],
      "text/latex": [
       "\\begin{tabular}{r|l}\n",
       " Age\\\\\n",
       "\\hline\n",
       "\t 80\\\\\n",
       "\t 80\\\\\n",
       "\t 81\\\\\n",
       "\t 81\\\\\n",
       "\t 84\\\\\n",
       "\t 88\\\\\n",
       "\t 88\\\\\n",
       "\t 88\\\\\n",
       "\t 96\\\\\n",
       "\t 97\\\\\n",
       "\\end{tabular}\n"
      ],
      "text/markdown": [
       "\n",
       "| Age |\n",
       "|---|\n",
       "| 80 |\n",
       "| 80 |\n",
       "| 81 |\n",
       "| 81 |\n",
       "| 84 |\n",
       "| 88 |\n",
       "| 88 |\n",
       "| 88 |\n",
       "| 96 |\n",
       "| 97 |\n",
       "\n"
      ],
      "text/plain": [
       "   Age\n",
       "1  80 \n",
       "2  80 \n",
       "3  81 \n",
       "4  81 \n",
       "5  84 \n",
       "6  88 \n",
       "7  88 \n",
       "8  88 \n",
       "9  96 \n",
       "10 97 "
      ]
     },
     "metadata": {},
     "output_type": "display_data"
    }
   ],
   "source": [
    "xath<-ath %>% filter(Age != \"<NA>\") %>% arrange(Age) %>% select(Age) %>% \n",
    "  group_by(Age)\n",
    "tail(xath,n=10)"
   ]
  },
  {
   "cell_type": "markdown",
   "metadata": {},
   "source": [
    "This  One-column gives the age of the 10 oldest participants ever participated in the the olympics."
   ]
  },
  {
   "cell_type": "markdown",
   "metadata": {},
   "source": [
    "# 4.series"
   ]
  },
  {
   "cell_type": "code",
   "execution_count": 69,
   "metadata": {},
   "outputs": [
    {
     "data": {
      "text/html": [
       "<table>\n",
       "<thead><tr><th scope=col>Year</th><th scope=col>Name</th><th scope=col>Team</th><th scope=col>Age</th><th scope=col>Sex</th><th scope=col>Medal</th><th scope=col>n</th></tr></thead>\n",
       "<tbody>\n",
       "\t<tr><td>2012                              </td><td>Allison Rodgers Schmitt           </td><td>United States                     </td><td>22                                </td><td>F                                 </td><td>Gold                              </td><td>3                                 </td></tr>\n",
       "\t<tr><td>2012                              </td><td>Dana Whitney Vollmer (-Grant)     </td><td>United States                     </td><td>24                                </td><td>F                                 </td><td>Gold                              </td><td>3                                 </td></tr>\n",
       "\t<tr><td>2012                              </td><td>Cullen Andrew Jones               </td><td>United States                     </td><td>28                                </td><td>M                                 </td><td>Silver                            </td><td>2                                 </td></tr>\n",
       "\t<tr><td>2012                              </td><td>Matthew \"Matt\" Grevers            </td><td>United States                     </td><td>27                                </td><td>M                                 </td><td>Gold                              </td><td>2                                 </td></tr>\n",
       "\t<tr><td>2012                              </td><td>Michael Fred Phelps, II           </td><td>United States                     </td><td>27                                </td><td>M                                 </td><td>Silver                            </td><td>2                                 </td></tr>\n",
       "\t<tr><td>2016                              </td><td>Michael Fred Phelps, II           </td><td>United States                     </td><td>31                                </td><td>M                                 </td><td>Gold                              </td><td>5                                 </td></tr>\n",
       "\t<tr><td>2016                              </td><td>Kathleen Genevieve \"Katie\" Ledecky</td><td>United States                     </td><td>19                                </td><td>F                                 </td><td>Gold                              </td><td>4                                 </td></tr>\n",
       "\t<tr><td>2016                              </td><td>Ryan Murphy                       </td><td>United States                     </td><td>21                                </td><td>M                                 </td><td>Gold                              </td><td>3                                 </td></tr>\n",
       "\t<tr><td>2016                              </td><td>Anthony Lee Ervin                 </td><td>United States                     </td><td>35                                </td><td>M                                 </td><td>Gold                              </td><td>2                                 </td></tr>\n",
       "\t<tr><td>2016                              </td><td>Caeleb Remel Dressel              </td><td>United States                     </td><td>19                                </td><td>M                                 </td><td>Gold                              </td><td>2                                 </td></tr>\n",
       "\t<tr><td>2016                              </td><td>Lilly King                        </td><td>United States                     </td><td>19                                </td><td>F                                 </td><td>Gold                              </td><td>2                                 </td></tr>\n",
       "\t<tr><td>2016                              </td><td>Madeline Jane \"Maya\" DiRado       </td><td>United States                     </td><td>23                                </td><td>F                                 </td><td>Gold                              </td><td>2                                 </td></tr>\n",
       "</tbody>\n",
       "</table>\n"
      ],
      "text/latex": [
       "\\begin{tabular}{r|lllllll}\n",
       " Year & Name & Team & Age & Sex & Medal & n\\\\\n",
       "\\hline\n",
       "\t 2012                               & Allison Rodgers Schmitt            & United States                      & 22                                 & F                                  & Gold                               & 3                                 \\\\\n",
       "\t 2012                               & Dana Whitney Vollmer (-Grant)      & United States                      & 24                                 & F                                  & Gold                               & 3                                 \\\\\n",
       "\t 2012                               & Cullen Andrew Jones                & United States                      & 28                                 & M                                  & Silver                             & 2                                 \\\\\n",
       "\t 2012                               & Matthew \"Matt\" Grevers             & United States                      & 27                                 & M                                  & Gold                               & 2                                 \\\\\n",
       "\t 2012                               & Michael Fred Phelps, II            & United States                      & 27                                 & M                                  & Silver                             & 2                                 \\\\\n",
       "\t 2016                               & Michael Fred Phelps, II            & United States                      & 31                                 & M                                  & Gold                               & 5                                 \\\\\n",
       "\t 2016                               & Kathleen Genevieve \"Katie\" Ledecky & United States                      & 19                                 & F                                  & Gold                               & 4                                 \\\\\n",
       "\t 2016                               & Ryan Murphy                        & United States                      & 21                                 & M                                  & Gold                               & 3                                 \\\\\n",
       "\t 2016                               & Anthony Lee Ervin                  & United States                      & 35                                 & M                                  & Gold                               & 2                                 \\\\\n",
       "\t 2016                               & Caeleb Remel Dressel               & United States                      & 19                                 & M                                  & Gold                               & 2                                 \\\\\n",
       "\t 2016                               & Lilly King                         & United States                      & 19                                 & F                                  & Gold                               & 2                                 \\\\\n",
       "\t 2016                               & Madeline Jane \"Maya\" DiRado        & United States                      & 23                                 & F                                  & Gold                               & 2                                 \\\\\n",
       "\\end{tabular}\n"
      ],
      "text/markdown": [
       "\n",
       "| Year | Name | Team | Age | Sex | Medal | n |\n",
       "|---|---|---|---|---|---|---|\n",
       "| 2012                               | Allison Rodgers Schmitt            | United States                      | 22                                 | F                                  | Gold                               | 3                                  |\n",
       "| 2012                               | Dana Whitney Vollmer (-Grant)      | United States                      | 24                                 | F                                  | Gold                               | 3                                  |\n",
       "| 2012                               | Cullen Andrew Jones                | United States                      | 28                                 | M                                  | Silver                             | 2                                  |\n",
       "| 2012                               | Matthew \"Matt\" Grevers             | United States                      | 27                                 | M                                  | Gold                               | 2                                  |\n",
       "| 2012                               | Michael Fred Phelps, II            | United States                      | 27                                 | M                                  | Silver                             | 2                                  |\n",
       "| 2016                               | Michael Fred Phelps, II            | United States                      | 31                                 | M                                  | Gold                               | 5                                  |\n",
       "| 2016                               | Kathleen Genevieve \"Katie\" Ledecky | United States                      | 19                                 | F                                  | Gold                               | 4                                  |\n",
       "| 2016                               | Ryan Murphy                        | United States                      | 21                                 | M                                  | Gold                               | 3                                  |\n",
       "| 2016                               | Anthony Lee Ervin                  | United States                      | 35                                 | M                                  | Gold                               | 2                                  |\n",
       "| 2016                               | Caeleb Remel Dressel               | United States                      | 19                                 | M                                  | Gold                               | 2                                  |\n",
       "| 2016                               | Lilly King                         | United States                      | 19                                 | F                                  | Gold                               | 2                                  |\n",
       "| 2016                               | Madeline Jane \"Maya\" DiRado        | United States                      | 23                                 | F                                  | Gold                               | 2                                  |\n",
       "\n"
      ],
      "text/plain": [
       "   Year Name                               Team          Age Sex Medal  n\n",
       "1  2012 Allison Rodgers Schmitt            United States 22  F   Gold   3\n",
       "2  2012 Dana Whitney Vollmer (-Grant)      United States 24  F   Gold   3\n",
       "3  2012 Cullen Andrew Jones                United States 28  M   Silver 2\n",
       "4  2012 Matthew \"Matt\" Grevers             United States 27  M   Gold   2\n",
       "5  2012 Michael Fred Phelps, II            United States 27  M   Silver 2\n",
       "6  2016 Michael Fred Phelps, II            United States 31  M   Gold   5\n",
       "7  2016 Kathleen Genevieve \"Katie\" Ledecky United States 19  F   Gold   4\n",
       "8  2016 Ryan Murphy                        United States 21  M   Gold   3\n",
       "9  2016 Anthony Lee Ervin                  United States 35  M   Gold   2\n",
       "10 2016 Caeleb Remel Dressel               United States 19  M   Gold   2\n",
       "11 2016 Lilly King                         United States 19  F   Gold   2\n",
       "12 2016 Madeline Jane \"Maya\" DiRado        United States 23  F   Gold   2"
      ]
     },
     "metadata": {},
     "output_type": "display_data"
    }
   ],
   "source": [
    "xath<-ath %>% filter(Medal !=\"<NA>\") %>% filter(Sport ==\"Swimming\") %>%\n",
    "  filter(Team ==\"United States\") %>%\n",
    "  select(Year,Name,Team,Medal,Age,Sex) %>% \n",
    "  group_by(Year,Name,Team,Age,Sex) %>% \n",
    "  count(Medal) %>%\n",
    "  group_by(Year) %>% \n",
    "  arrange(Year,desc(n)) %>% \n",
    "  slice(1:7)\n",
    "tail(xath,n=12)"
   ]
  },
  {
   "cell_type": "markdown",
   "metadata": {},
   "source": [
    "This table has 7 columns including:- \n",
    "\n",
    "Year:- It shows the year in which the olympics was played which will be helpful for kellogg's to figure out which athletic is performing well in present time.\n",
    "\n",
    "Name:- It contains the name of swimmers who have won any kind of medals in the olympics.\n",
    "\n",
    "Team:- It includes the name of the nation which will help kellogg's to know that which athletic belong to which country.\n",
    "\n",
    "Age:- This column includes the age of the athletics by which kellogg's can know how experienced  are the athletes.\n",
    "\n",
    "Sex:- Displays the gender of the athletics which will come handy to kellogg's if they are considering to launch some gender specific product \n",
    "meals.\n",
    "\n",
    "Medal:- Shows the category of the medal won by athletics.\n",
    "\n",
    "n:- Displays the count of medal won by the athletics.\n",
    "\n",
    "\n",
    "It shows the medals won by american swimmers in last two olympics.\n",
    "The three candidates kellogg's should choose. If they are considering american swimmers.\n",
    "1.Ryan Murphy\n",
    "2.Kathleen Genevieve \"Katie\" Ledecky\n",
    "3.Michael Fred Phelps, II "
   ]
  },
  {
   "cell_type": "code",
   "execution_count": 71,
   "metadata": {},
   "outputs": [
    {
     "data": {
      "text/html": [
       "<table>\n",
       "<thead><tr><th scope=col>Year</th><th scope=col>Name</th><th scope=col>Team</th><th scope=col>Age</th><th scope=col>Sex</th><th scope=col>Medal</th><th scope=col>n</th></tr></thead>\n",
       "<tbody>\n",
       "\t<tr><td>2012                     </td><td>Angelo F. Taylor, Jr.    </td><td>United States            </td><td>33                       </td><td>M                        </td><td>Silver                   </td><td>1                        </td></tr>\n",
       "\t<tr><td>2012                     </td><td>Aries D'Andre Merritt    </td><td>United States            </td><td>27                       </td><td>M                        </td><td>Gold                     </td><td>1                        </td></tr>\n",
       "\t<tr><td>2012                     </td><td>Ashton James Eaton       </td><td>United States            </td><td>24                       </td><td>M                        </td><td>Gold                     </td><td>1                        </td></tr>\n",
       "\t<tr><td>2012                     </td><td>Bianca Knight            </td><td>United States            </td><td>23                       </td><td>F                        </td><td>Gold                     </td><td>1                        </td></tr>\n",
       "\t<tr><td>2012                     </td><td>Brigetta LaShea Barrett  </td><td>United States            </td><td>21                       </td><td>F                        </td><td>Silver                   </td><td>1                        </td></tr>\n",
       "\t<tr><td>2016                     </td><td>Allyson Michelle Felix   </td><td>United States            </td><td>30                       </td><td>F                        </td><td>Gold                     </td><td>2                        </td></tr>\n",
       "\t<tr><td>2016                     </td><td>Tianna Madison-Bartoletta</td><td>United States            </td><td>30                       </td><td>F                        </td><td>Gold                     </td><td>2                        </td></tr>\n",
       "\t<tr><td>2016                     </td><td>Allyson Michelle Felix   </td><td>United States            </td><td>30                       </td><td>F                        </td><td>Silver                   </td><td>1                        </td></tr>\n",
       "\t<tr><td>2016                     </td><td>Arman Hall               </td><td>United States            </td><td>22                       </td><td>M                        </td><td>Gold                     </td><td>1                        </td></tr>\n",
       "\t<tr><td>2016                     </td><td>Ashley Spencer           </td><td>United States            </td><td>23                       </td><td>F                        </td><td>Bronze                   </td><td>1                        </td></tr>\n",
       "\t<tr><td>2016                     </td><td>Ashton James Eaton       </td><td>United States            </td><td>28                       </td><td>M                        </td><td>Gold                     </td><td>1                        </td></tr>\n",
       "\t<tr><td>2016                     </td><td>Brianna Rollins          </td><td>United States            </td><td>24                       </td><td>F                        </td><td>Gold                     </td><td>1                        </td></tr>\n",
       "</tbody>\n",
       "</table>\n"
      ],
      "text/latex": [
       "\\begin{tabular}{r|lllllll}\n",
       " Year & Name & Team & Age & Sex & Medal & n\\\\\n",
       "\\hline\n",
       "\t 2012                      & Angelo F. Taylor, Jr.     & United States             & 33                        & M                         & Silver                    & 1                        \\\\\n",
       "\t 2012                      & Aries D'Andre Merritt     & United States             & 27                        & M                         & Gold                      & 1                        \\\\\n",
       "\t 2012                      & Ashton James Eaton        & United States             & 24                        & M                         & Gold                      & 1                        \\\\\n",
       "\t 2012                      & Bianca Knight             & United States             & 23                        & F                         & Gold                      & 1                        \\\\\n",
       "\t 2012                      & Brigetta LaShea Barrett   & United States             & 21                        & F                         & Silver                    & 1                        \\\\\n",
       "\t 2016                      & Allyson Michelle Felix    & United States             & 30                        & F                         & Gold                      & 2                        \\\\\n",
       "\t 2016                      & Tianna Madison-Bartoletta & United States             & 30                        & F                         & Gold                      & 2                        \\\\\n",
       "\t 2016                      & Allyson Michelle Felix    & United States             & 30                        & F                         & Silver                    & 1                        \\\\\n",
       "\t 2016                      & Arman Hall                & United States             & 22                        & M                         & Gold                      & 1                        \\\\\n",
       "\t 2016                      & Ashley Spencer            & United States             & 23                        & F                         & Bronze                    & 1                        \\\\\n",
       "\t 2016                      & Ashton James Eaton        & United States             & 28                        & M                         & Gold                      & 1                        \\\\\n",
       "\t 2016                      & Brianna Rollins           & United States             & 24                        & F                         & Gold                      & 1                        \\\\\n",
       "\\end{tabular}\n"
      ],
      "text/markdown": [
       "\n",
       "| Year | Name | Team | Age | Sex | Medal | n |\n",
       "|---|---|---|---|---|---|---|\n",
       "| 2012                      | Angelo F. Taylor, Jr.     | United States             | 33                        | M                         | Silver                    | 1                         |\n",
       "| 2012                      | Aries D'Andre Merritt     | United States             | 27                        | M                         | Gold                      | 1                         |\n",
       "| 2012                      | Ashton James Eaton        | United States             | 24                        | M                         | Gold                      | 1                         |\n",
       "| 2012                      | Bianca Knight             | United States             | 23                        | F                         | Gold                      | 1                         |\n",
       "| 2012                      | Brigetta LaShea Barrett   | United States             | 21                        | F                         | Silver                    | 1                         |\n",
       "| 2016                      | Allyson Michelle Felix    | United States             | 30                        | F                         | Gold                      | 2                         |\n",
       "| 2016                      | Tianna Madison-Bartoletta | United States             | 30                        | F                         | Gold                      | 2                         |\n",
       "| 2016                      | Allyson Michelle Felix    | United States             | 30                        | F                         | Silver                    | 1                         |\n",
       "| 2016                      | Arman Hall                | United States             | 22                        | M                         | Gold                      | 1                         |\n",
       "| 2016                      | Ashley Spencer            | United States             | 23                        | F                         | Bronze                    | 1                         |\n",
       "| 2016                      | Ashton James Eaton        | United States             | 28                        | M                         | Gold                      | 1                         |\n",
       "| 2016                      | Brianna Rollins           | United States             | 24                        | F                         | Gold                      | 1                         |\n",
       "\n"
      ],
      "text/plain": [
       "   Year Name                      Team          Age Sex Medal  n\n",
       "1  2012 Angelo F. Taylor, Jr.     United States 33  M   Silver 1\n",
       "2  2012 Aries D'Andre Merritt     United States 27  M   Gold   1\n",
       "3  2012 Ashton James Eaton        United States 24  M   Gold   1\n",
       "4  2012 Bianca Knight             United States 23  F   Gold   1\n",
       "5  2012 Brigetta LaShea Barrett   United States 21  F   Silver 1\n",
       "6  2016 Allyson Michelle Felix    United States 30  F   Gold   2\n",
       "7  2016 Tianna Madison-Bartoletta United States 30  F   Gold   2\n",
       "8  2016 Allyson Michelle Felix    United States 30  F   Silver 1\n",
       "9  2016 Arman Hall                United States 22  M   Gold   1\n",
       "10 2016 Ashley Spencer            United States 23  F   Bronze 1\n",
       "11 2016 Ashton James Eaton        United States 28  M   Gold   1\n",
       "12 2016 Brianna Rollins           United States 24  F   Gold   1"
      ]
     },
     "metadata": {},
     "output_type": "display_data"
    }
   ],
   "source": [
    "xath<-ath %>% filter(Medal !=\"<NA>\") %>% filter(Sport ==\"Athletics\") %>%\n",
    "  filter(Team ==\"United States\") %>%\n",
    "  select(Year,Name,Team,Medal,Age,Sex) %>% \n",
    "  group_by(Year,Name,Team,Age,Sex) %>% \n",
    "  count(Medal) %>%\n",
    "  group_by(Year) %>% \n",
    "  arrange(Year,desc(n)) %>% \n",
    "  slice(1:7)\n",
    "tail(xath,n=12)"
   ]
  },
  {
   "cell_type": "markdown",
   "metadata": {},
   "source": [
    "This table gives the name of the american athletics who won medals in last two olympics.\n",
    "The definite option for kellogg's to consider from this output is as follows:\n",
    "1.Allyson Michelle Felix"
   ]
  },
  {
   "cell_type": "code",
   "execution_count": 76,
   "metadata": {},
   "outputs": [
    {
     "data": {
      "text/html": [
       "<table>\n",
       "<thead><tr><th scope=col>Year</th><th scope=col>Name</th><th scope=col>Team</th><th scope=col>Age</th><th scope=col>Sex</th><th scope=col>Medal</th><th scope=col>n</th></tr></thead>\n",
       "<tbody>\n",
       "\t<tr><td>2012                      </td><td>Usain St. Leo Bolt        </td><td>Jamaica                   </td><td>25                        </td><td>M                         </td><td>Gold                      </td><td>3                         </td></tr>\n",
       "\t<tr><td>2012                      </td><td>Shelly-Ann Fraser-Pryce   </td><td>Jamaica                   </td><td>25                        </td><td>F                         </td><td>Silver                    </td><td>2                         </td></tr>\n",
       "\t<tr><td>2012                      </td><td>Yohan Blake               </td><td>Jamaica                   </td><td>22                        </td><td>M                         </td><td>Silver                    </td><td>2                         </td></tr>\n",
       "\t<tr><td>2012                      </td><td>Christine Day             </td><td>Jamaica                   </td><td>25                        </td><td>F                         </td><td>Bronze                    </td><td>1                         </td></tr>\n",
       "\t<tr><td>2012                      </td><td>Hansle George Parchment   </td><td>Jamaica                   </td><td>22                        </td><td>M                         </td><td>Bronze                    </td><td>1                         </td></tr>\n",
       "\t<tr><td>2012                      </td><td>Kemar Bailey-Cole         </td><td>Jamaica                   </td><td>20                        </td><td>M                         </td><td>Gold                      </td><td>1                         </td></tr>\n",
       "\t<tr><td>2012                      </td><td>Kerron Stewart            </td><td>Jamaica                   </td><td>28                        </td><td>F                         </td><td>Silver                    </td><td>1                         </td></tr>\n",
       "\t<tr><td>2016                      </td><td>Usain St. Leo Bolt        </td><td>Jamaica                   </td><td>29                        </td><td>M                         </td><td>Gold                      </td><td>3                         </td></tr>\n",
       "\t<tr><td>2016                      </td><td>Elaine Thompson           </td><td>Jamaica                   </td><td>24                        </td><td>F                         </td><td>Gold                      </td><td>2                         </td></tr>\n",
       "\t<tr><td>2016                      </td><td>Anneisha McLaughlin-Whilby</td><td>Jamaica                   </td><td>30                        </td><td>F                         </td><td>Silver                    </td><td>1                         </td></tr>\n",
       "\t<tr><td>2016                      </td><td>Asafa Kehine Powell       </td><td>Jamaica                   </td><td>33                        </td><td>M                         </td><td>Gold                      </td><td>1                         </td></tr>\n",
       "\t<tr><td>2016                      </td><td>Chrisann Gordon           </td><td>Jamaica                   </td><td>21                        </td><td>F                         </td><td>Silver                    </td><td>1                         </td></tr>\n",
       "\t<tr><td>2016                      </td><td>Christania Williams       </td><td>Jamaica                   </td><td>21                        </td><td>F                         </td><td>Silver                    </td><td>1                         </td></tr>\n",
       "\t<tr><td>2016                      </td><td>Christine Day             </td><td>Jamaica                   </td><td>29                        </td><td>F                         </td><td>Silver                    </td><td>1                         </td></tr>\n",
       "</tbody>\n",
       "</table>\n"
      ],
      "text/latex": [
       "\\begin{tabular}{r|lllllll}\n",
       " Year & Name & Team & Age & Sex & Medal & n\\\\\n",
       "\\hline\n",
       "\t 2012                       & Usain St. Leo Bolt         & Jamaica                    & 25                         & M                          & Gold                       & 3                         \\\\\n",
       "\t 2012                       & Shelly-Ann Fraser-Pryce    & Jamaica                    & 25                         & F                          & Silver                     & 2                         \\\\\n",
       "\t 2012                       & Yohan Blake                & Jamaica                    & 22                         & M                          & Silver                     & 2                         \\\\\n",
       "\t 2012                       & Christine Day              & Jamaica                    & 25                         & F                          & Bronze                     & 1                         \\\\\n",
       "\t 2012                       & Hansle George Parchment    & Jamaica                    & 22                         & M                          & Bronze                     & 1                         \\\\\n",
       "\t 2012                       & Kemar Bailey-Cole          & Jamaica                    & 20                         & M                          & Gold                       & 1                         \\\\\n",
       "\t 2012                       & Kerron Stewart             & Jamaica                    & 28                         & F                          & Silver                     & 1                         \\\\\n",
       "\t 2016                       & Usain St. Leo Bolt         & Jamaica                    & 29                         & M                          & Gold                       & 3                         \\\\\n",
       "\t 2016                       & Elaine Thompson            & Jamaica                    & 24                         & F                          & Gold                       & 2                         \\\\\n",
       "\t 2016                       & Anneisha McLaughlin-Whilby & Jamaica                    & 30                         & F                          & Silver                     & 1                         \\\\\n",
       "\t 2016                       & Asafa Kehine Powell        & Jamaica                    & 33                         & M                          & Gold                       & 1                         \\\\\n",
       "\t 2016                       & Chrisann Gordon            & Jamaica                    & 21                         & F                          & Silver                     & 1                         \\\\\n",
       "\t 2016                       & Christania Williams        & Jamaica                    & 21                         & F                          & Silver                     & 1                         \\\\\n",
       "\t 2016                       & Christine Day              & Jamaica                    & 29                         & F                          & Silver                     & 1                         \\\\\n",
       "\\end{tabular}\n"
      ],
      "text/markdown": [
       "\n",
       "| Year | Name | Team | Age | Sex | Medal | n |\n",
       "|---|---|---|---|---|---|---|\n",
       "| 2012                       | Usain St. Leo Bolt         | Jamaica                    | 25                         | M                          | Gold                       | 3                          |\n",
       "| 2012                       | Shelly-Ann Fraser-Pryce    | Jamaica                    | 25                         | F                          | Silver                     | 2                          |\n",
       "| 2012                       | Yohan Blake                | Jamaica                    | 22                         | M                          | Silver                     | 2                          |\n",
       "| 2012                       | Christine Day              | Jamaica                    | 25                         | F                          | Bronze                     | 1                          |\n",
       "| 2012                       | Hansle George Parchment    | Jamaica                    | 22                         | M                          | Bronze                     | 1                          |\n",
       "| 2012                       | Kemar Bailey-Cole          | Jamaica                    | 20                         | M                          | Gold                       | 1                          |\n",
       "| 2012                       | Kerron Stewart             | Jamaica                    | 28                         | F                          | Silver                     | 1                          |\n",
       "| 2016                       | Usain St. Leo Bolt         | Jamaica                    | 29                         | M                          | Gold                       | 3                          |\n",
       "| 2016                       | Elaine Thompson            | Jamaica                    | 24                         | F                          | Gold                       | 2                          |\n",
       "| 2016                       | Anneisha McLaughlin-Whilby | Jamaica                    | 30                         | F                          | Silver                     | 1                          |\n",
       "| 2016                       | Asafa Kehine Powell        | Jamaica                    | 33                         | M                          | Gold                       | 1                          |\n",
       "| 2016                       | Chrisann Gordon            | Jamaica                    | 21                         | F                          | Silver                     | 1                          |\n",
       "| 2016                       | Christania Williams        | Jamaica                    | 21                         | F                          | Silver                     | 1                          |\n",
       "| 2016                       | Christine Day              | Jamaica                    | 29                         | F                          | Silver                     | 1                          |\n",
       "\n"
      ],
      "text/plain": [
       "   Year Name                       Team    Age Sex Medal  n\n",
       "1  2012 Usain St. Leo Bolt         Jamaica 25  M   Gold   3\n",
       "2  2012 Shelly-Ann Fraser-Pryce    Jamaica 25  F   Silver 2\n",
       "3  2012 Yohan Blake                Jamaica 22  M   Silver 2\n",
       "4  2012 Christine Day              Jamaica 25  F   Bronze 1\n",
       "5  2012 Hansle George Parchment    Jamaica 22  M   Bronze 1\n",
       "6  2012 Kemar Bailey-Cole          Jamaica 20  M   Gold   1\n",
       "7  2012 Kerron Stewart             Jamaica 28  F   Silver 1\n",
       "8  2016 Usain St. Leo Bolt         Jamaica 29  M   Gold   3\n",
       "9  2016 Elaine Thompson            Jamaica 24  F   Gold   2\n",
       "10 2016 Anneisha McLaughlin-Whilby Jamaica 30  F   Silver 1\n",
       "11 2016 Asafa Kehine Powell        Jamaica 33  M   Gold   1\n",
       "12 2016 Chrisann Gordon            Jamaica 21  F   Silver 1\n",
       "13 2016 Christania Williams        Jamaica 21  F   Silver 1\n",
       "14 2016 Christine Day              Jamaica 29  F   Silver 1"
      ]
     },
     "metadata": {},
     "output_type": "display_data"
    }
   ],
   "source": [
    "xath<-ath %>% filter(Medal !=\"<NA>\") %>% filter(Sport ==\"Athletics\") %>%\n",
    "  filter(Team ==\"Jamaica\") %>%\n",
    "  select(Year,Name,Team,Medal,Age,Sex) %>% \n",
    "  group_by(Year,Name,Team,Age,Sex) %>% \n",
    "  count(Medal) %>%\n",
    "  group_by(Year) %>% \n",
    "  arrange(Year,desc(n)) %>% \n",
    "  slice(1:7)\n",
    "tail(xath,n=14)"
   ]
  },
  {
   "cell_type": "markdown",
   "metadata": {},
   "source": [
    "This table shows the medals won by Jamaican athletics in last two olympics.\n",
    "The two picks from jamacian athletics as they have won more medals than their peers are.\n",
    "1.Usain Bolt\n",
    "2.Elaine Thompson"
   ]
  },
  {
   "cell_type": "code",
   "execution_count": 77,
   "metadata": {},
   "outputs": [
    {
     "data": {
      "text/html": [
       "<table>\n",
       "<thead><tr><th scope=col>Year</th><th scope=col>Name</th><th scope=col>Team</th><th scope=col>Age</th><th scope=col>Sex</th><th scope=col>Medal</th><th scope=col>n</th></tr></thead>\n",
       "<tbody>\n",
       "\t<tr><td>2012                                        </td><td>Alexandra Rose \"Aly\" Raisman                </td><td>United States                               </td><td>18                                          </td><td>F                                           </td><td>Gold                                        </td><td>2                                           </td></tr>\n",
       "\t<tr><td>2012                                        </td><td>Gabrielle Christina Victoria \"Gabby\" Douglas</td><td>United States                               </td><td>16                                          </td><td>F                                           </td><td>Gold                                        </td><td>2                                           </td></tr>\n",
       "\t<tr><td>2012                                        </td><td>Alexandra Rose \"Aly\" Raisman                </td><td>United States                               </td><td>18                                          </td><td>F                                           </td><td>Bronze                                      </td><td>1                                           </td></tr>\n",
       "\t<tr><td>2012                                        </td><td>Danell Johan Leyva Gonzalez                 </td><td>United States                               </td><td>20                                          </td><td>M                                           </td><td>Bronze                                      </td><td>1                                           </td></tr>\n",
       "\t<tr><td>2012                                        </td><td>Jordyn Marie Wieber                         </td><td>United States                               </td><td>17                                          </td><td>F                                           </td><td>Gold                                        </td><td>1                                           </td></tr>\n",
       "\t<tr><td>2012                                        </td><td>Kyla Briana Ross                            </td><td>United States                               </td><td>15                                          </td><td>F                                           </td><td>Gold                                        </td><td>1                                           </td></tr>\n",
       "\t<tr><td>2012                                        </td><td>McKayla Rose Maroney                        </td><td>United States                               </td><td>16                                          </td><td>F                                           </td><td>Gold                                        </td><td>1                                           </td></tr>\n",
       "\t<tr><td>2016                                        </td><td>Simone Arianne Biles                        </td><td>United States                               </td><td>19                                          </td><td>F                                           </td><td>Gold                                        </td><td>4                                           </td></tr>\n",
       "\t<tr><td>2016                                        </td><td>Alexandra Rose \"Aly\" Raisman                </td><td>United States                               </td><td>22                                          </td><td>F                                           </td><td>Silver                                      </td><td>2                                           </td></tr>\n",
       "\t<tr><td>2016                                        </td><td>Danell Johan Leyva Gonzalez                 </td><td>United States                               </td><td>24                                          </td><td>M                                           </td><td>Silver                                      </td><td>2                                           </td></tr>\n",
       "\t<tr><td>2016                                        </td><td>Alexander Michael \"Alex\" Naddour            </td><td>United States                               </td><td>25                                          </td><td>M                                           </td><td>Bronze                                      </td><td>1                                           </td></tr>\n",
       "\t<tr><td>2016                                        </td><td>Alexandra Rose \"Aly\" Raisman                </td><td>United States                               </td><td>22                                          </td><td>F                                           </td><td>Gold                                        </td><td>1                                           </td></tr>\n",
       "\t<tr><td>2016                                        </td><td>Gabrielle Christina Victoria \"Gabby\" Douglas</td><td>United States                               </td><td>20                                          </td><td>F                                           </td><td>Gold                                        </td><td>1                                           </td></tr>\n",
       "\t<tr><td>2016                                        </td><td>Lauren Zoe \"Laurie\" Hernandez               </td><td>United States                               </td><td>16                                          </td><td>F                                           </td><td>Gold                                        </td><td>1                                           </td></tr>\n",
       "</tbody>\n",
       "</table>\n"
      ],
      "text/latex": [
       "\\begin{tabular}{r|lllllll}\n",
       " Year & Name & Team & Age & Sex & Medal & n\\\\\n",
       "\\hline\n",
       "\t 2012                                         & Alexandra Rose \"Aly\" Raisman                 & United States                                & 18                                           & F                                            & Gold                                         & 2                                           \\\\\n",
       "\t 2012                                         & Gabrielle Christina Victoria \"Gabby\" Douglas & United States                                & 16                                           & F                                            & Gold                                         & 2                                           \\\\\n",
       "\t 2012                                         & Alexandra Rose \"Aly\" Raisman                 & United States                                & 18                                           & F                                            & Bronze                                       & 1                                           \\\\\n",
       "\t 2012                                         & Danell Johan Leyva Gonzalez                  & United States                                & 20                                           & M                                            & Bronze                                       & 1                                           \\\\\n",
       "\t 2012                                         & Jordyn Marie Wieber                          & United States                                & 17                                           & F                                            & Gold                                         & 1                                           \\\\\n",
       "\t 2012                                         & Kyla Briana Ross                             & United States                                & 15                                           & F                                            & Gold                                         & 1                                           \\\\\n",
       "\t 2012                                         & McKayla Rose Maroney                         & United States                                & 16                                           & F                                            & Gold                                         & 1                                           \\\\\n",
       "\t 2016                                         & Simone Arianne Biles                         & United States                                & 19                                           & F                                            & Gold                                         & 4                                           \\\\\n",
       "\t 2016                                         & Alexandra Rose \"Aly\" Raisman                 & United States                                & 22                                           & F                                            & Silver                                       & 2                                           \\\\\n",
       "\t 2016                                         & Danell Johan Leyva Gonzalez                  & United States                                & 24                                           & M                                            & Silver                                       & 2                                           \\\\\n",
       "\t 2016                                         & Alexander Michael \"Alex\" Naddour             & United States                                & 25                                           & M                                            & Bronze                                       & 1                                           \\\\\n",
       "\t 2016                                         & Alexandra Rose \"Aly\" Raisman                 & United States                                & 22                                           & F                                            & Gold                                         & 1                                           \\\\\n",
       "\t 2016                                         & Gabrielle Christina Victoria \"Gabby\" Douglas & United States                                & 20                                           & F                                            & Gold                                         & 1                                           \\\\\n",
       "\t 2016                                         & Lauren Zoe \"Laurie\" Hernandez                & United States                                & 16                                           & F                                            & Gold                                         & 1                                           \\\\\n",
       "\\end{tabular}\n"
      ],
      "text/markdown": [
       "\n",
       "| Year | Name | Team | Age | Sex | Medal | n |\n",
       "|---|---|---|---|---|---|---|\n",
       "| 2012                                         | Alexandra Rose \"Aly\" Raisman                 | United States                                | 18                                           | F                                            | Gold                                         | 2                                            |\n",
       "| 2012                                         | Gabrielle Christina Victoria \"Gabby\" Douglas | United States                                | 16                                           | F                                            | Gold                                         | 2                                            |\n",
       "| 2012                                         | Alexandra Rose \"Aly\" Raisman                 | United States                                | 18                                           | F                                            | Bronze                                       | 1                                            |\n",
       "| 2012                                         | Danell Johan Leyva Gonzalez                  | United States                                | 20                                           | M                                            | Bronze                                       | 1                                            |\n",
       "| 2012                                         | Jordyn Marie Wieber                          | United States                                | 17                                           | F                                            | Gold                                         | 1                                            |\n",
       "| 2012                                         | Kyla Briana Ross                             | United States                                | 15                                           | F                                            | Gold                                         | 1                                            |\n",
       "| 2012                                         | McKayla Rose Maroney                         | United States                                | 16                                           | F                                            | Gold                                         | 1                                            |\n",
       "| 2016                                         | Simone Arianne Biles                         | United States                                | 19                                           | F                                            | Gold                                         | 4                                            |\n",
       "| 2016                                         | Alexandra Rose \"Aly\" Raisman                 | United States                                | 22                                           | F                                            | Silver                                       | 2                                            |\n",
       "| 2016                                         | Danell Johan Leyva Gonzalez                  | United States                                | 24                                           | M                                            | Silver                                       | 2                                            |\n",
       "| 2016                                         | Alexander Michael \"Alex\" Naddour             | United States                                | 25                                           | M                                            | Bronze                                       | 1                                            |\n",
       "| 2016                                         | Alexandra Rose \"Aly\" Raisman                 | United States                                | 22                                           | F                                            | Gold                                         | 1                                            |\n",
       "| 2016                                         | Gabrielle Christina Victoria \"Gabby\" Douglas | United States                                | 20                                           | F                                            | Gold                                         | 1                                            |\n",
       "| 2016                                         | Lauren Zoe \"Laurie\" Hernandez                | United States                                | 16                                           | F                                            | Gold                                         | 1                                            |\n",
       "\n"
      ],
      "text/plain": [
       "   Year Name                                         Team          Age Sex\n",
       "1  2012 Alexandra Rose \"Aly\" Raisman                 United States 18  F  \n",
       "2  2012 Gabrielle Christina Victoria \"Gabby\" Douglas United States 16  F  \n",
       "3  2012 Alexandra Rose \"Aly\" Raisman                 United States 18  F  \n",
       "4  2012 Danell Johan Leyva Gonzalez                  United States 20  M  \n",
       "5  2012 Jordyn Marie Wieber                          United States 17  F  \n",
       "6  2012 Kyla Briana Ross                             United States 15  F  \n",
       "7  2012 McKayla Rose Maroney                         United States 16  F  \n",
       "8  2016 Simone Arianne Biles                         United States 19  F  \n",
       "9  2016 Alexandra Rose \"Aly\" Raisman                 United States 22  F  \n",
       "10 2016 Danell Johan Leyva Gonzalez                  United States 24  M  \n",
       "11 2016 Alexander Michael \"Alex\" Naddour             United States 25  M  \n",
       "12 2016 Alexandra Rose \"Aly\" Raisman                 United States 22  F  \n",
       "13 2016 Gabrielle Christina Victoria \"Gabby\" Douglas United States 20  F  \n",
       "14 2016 Lauren Zoe \"Laurie\" Hernandez                United States 16  F  \n",
       "   Medal  n\n",
       "1  Gold   2\n",
       "2  Gold   2\n",
       "3  Bronze 1\n",
       "4  Bronze 1\n",
       "5  Gold   1\n",
       "6  Gold   1\n",
       "7  Gold   1\n",
       "8  Gold   4\n",
       "9  Silver 2\n",
       "10 Silver 2\n",
       "11 Bronze 1\n",
       "12 Gold   1\n",
       "13 Gold   1\n",
       "14 Gold   1"
      ]
     },
     "metadata": {},
     "output_type": "display_data"
    }
   ],
   "source": [
    "xath<-ath %>% filter(Medal !=\"<NA>\") %>% filter(Sport ==\"Gymnastics\") %>%\n",
    "  filter(Team ==\"United States\") %>%\n",
    "  select(Year,Name,Team,Medal,Age,Sex) %>% \n",
    "  group_by(Year,Name,Team,Age,Sex) %>% \n",
    "  count(Medal) %>%\n",
    "  group_by(Year) %>% \n",
    "  arrange(Year,desc(n)) %>% \n",
    "  slice(1:7)\n",
    "tail(xath,n=14)"
   ]
  },
  {
   "cell_type": "markdown",
   "metadata": {},
   "source": [
    "Above table shows the medal won by American gymnasts in the last two olympics (only top seven included from each year). The two picks as they have performed well than rest of the gynmasts are:-\n",
    "1.Simone Arianne Blies \n",
    "2.Danell Johan Leyva"
   ]
  },
  {
   "cell_type": "markdown",
   "metadata": {},
   "source": [
    "# 5. Plot"
   ]
  },
  {
   "cell_type": "code",
   "execution_count": 185,
   "metadata": {},
   "outputs": [
    {
     "data": {
      "image/png": "[encoded data removed]",
      "text/plain": [
       "Plot with title \"Pie Chart of selected Athlete's medals share from 2012 to 2016\""
      ]
     },
     "metadata": {},
     "output_type": "display_data"
    }
   ],
   "source": [
    "All_ath <- c(\"Michael Fred Phelps, II\",\"Elaine Thompson\",\"Simone Arianne Blies\",\"Danell Johan Leyva\",\"Allyson Michelle Felix\",\"Ryan Murphy\",'Kathleen Genevieve \"Katie\" Ledecky',\"Usain St. Leo Bolt\",\"Emma McKeon\",\"Brittany Joyce Elmslie\")\n",
    "medalcount <-c(12,3,4,3,6,3,6,6,5,4)\n",
    "pie(medalcount, labels = All_ath, main=\"Pie Chart of selected Athlete's medals share from 2012 to 2016\")"
   ]
  },
  {
   "cell_type": "markdown",
   "metadata": {},
   "source": [
    "# 6.Summary"
   ]
  },
  {
   "cell_type": "markdown",
   "metadata": {},
   "source": [
    "To summarize the analysis, the operations were performed on the datasets of the most viewed sports in the olympics history and they were Gymnastics, Athletics and Swimming. So after selecting the sporting event, the best performer in terms of nation were shortlisted for all three sports. Following the same trend, best performing athletics in the last couple of years in the respective nation are shortlisted. Atlast a final draft of the 10 athletes are selected to be given as recommendation to Kellogg's to sponsor in the next olympics."
   ]
  },
  {
   "cell_type": "markdown",
   "metadata": {},
   "source": [
    "# 7.Recommendations"
   ]
  },
  {
   "cell_type": "markdown",
   "metadata": {},
   "source": [
    "Here are the 10 athletes that are shortlisted after analyzing the dataset and performing the various operation in detail. As these athletes have performed well in the recent olympics, the athelets are most likely to attract the attention of more viewers. All belongs to the most viewed sports of the olympics history.  \n",
    "Usain Bolt and Elaine Thompson, Simone Arianne Blies and Danell Johan Leyva,  Allyson Michelle Felix, Ryan Murphy,Kathleen Genevieve \"Katie\" Ledecky, Michael Fred Phelps, II, Emma McKeon and Brittany Joyce Elmslie"
   ]
  }
 ],
 "metadata": {
  "kernelspec": {
   "display_name": "R",
   "language": "R",
   "name": "ir"
  },
  "language_info": {
   "codemirror_mode": "r",
   "file_extension": ".r",
   "mimetype": "text/x-r-source",
   "name": "R",
   "pygments_lexer": "r",
   "version": "3.6.1"
  }
 },
 "nbformat": 4,
 "nbformat_minor": 2
}
